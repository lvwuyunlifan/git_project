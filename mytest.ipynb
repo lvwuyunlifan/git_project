{
  "nbformat": 4,
  "nbformat_minor": 0,
  "metadata": {
    "colab": {
      "name": "mytest.ipynb",
      "version": "0.3.2",
      "provenance": [],
      "collapsed_sections": [],
      "include_colab_link": true
    },
    "kernelspec": {
      "name": "python2",
      "display_name": "Python 2"
    },
    "accelerator": "GPU"
  },
  "cells": [
    {
      "cell_type": "markdown",
      "metadata": {
        "id": "view-in-github",
        "colab_type": "text"
      },
      "source": [
        "[View in Colaboratory](https://colab.research.google.com/github/lvwuyunlifan/git_project/blob/master/mytest.ipynb)"
      ]
    },
    {
      "metadata": {
        "id": "YdWhnftdv7Ef",
        "colab_type": "code",
        "colab": {
          "base_uri": "https://localhost:8080/",
          "height": 35
        },
        "outputId": "408a2b04-caf5-4e77-d9a3-26ab48fb8e23"
      },
      "cell_type": "code",
      "source": [
        "import tensorflow as tf\n",
        "device_name = tf.test.gpu_device_name()\n",
        "if device_name != '/device:GPU:0':\n",
        "  raise SystemError('GPU device not found')\n",
        "print('Found GPU at: {}'.format(device_name))"
      ],
      "execution_count": 1,
      "outputs": [
        {
          "output_type": "stream",
          "text": [
            "Found GPU at: /device:GPU:0\n"
          ],
          "name": "stdout"
        }
      ]
    },
    {
      "metadata": {
        "id": "_xbZn1KFwTQ8",
        "colab_type": "code",
        "colab": {
          "base_uri": "https://localhost:8080/",
          "height": 35
        },
        "outputId": "a5fb2caf-ceed-42a2-c2e7-8dbaa8f2c795"
      },
      "cell_type": "code",
      "source": [
        "import flask\n",
        "print('import flask sucess!')"
      ],
      "execution_count": 8,
      "outputs": [
        {
          "output_type": "stream",
          "text": [
            "import flask sucess!\n"
          ],
          "name": "stdout"
        }
      ]
    },
    {
      "metadata": {
        "id": "O9C3UJHvzm6U",
        "colab_type": "code",
        "colab": {
          "base_uri": "https://localhost:8080/",
          "height": 361
        },
        "outputId": "989b08b9-8b50-4d68-8bb4-adef6ee3183c"
      },
      "cell_type": "code",
      "source": [
        "!pip install flask"
      ],
      "execution_count": 6,
      "outputs": [
        {
          "output_type": "stream",
          "text": [
            "Collecting flask\n",
            "\u001b[?25l  Downloading https://files.pythonhosted.org/packages/7f/e7/08578774ed4536d3242b14dacb4696386634607af824ea997202cd0edb4b/Flask-1.0.2-py2.py3-none-any.whl (91kB)\n",
            "\u001b[K    100% |████████████████████████████████| 92kB 2.3MB/s \n",
            "\u001b[?25hRequirement already satisfied: Werkzeug>=0.14 in /usr/local/lib/python2.7/dist-packages (from flask) (0.14.1)\n",
            "Collecting click>=5.1 (from flask)\n",
            "\u001b[?25l  Downloading https://files.pythonhosted.org/packages/34/c1/8806f99713ddb993c5366c362b2f908f18269f8d792aff1abfd700775a77/click-6.7-py2.py3-none-any.whl (71kB)\n",
            "\u001b[K    100% |████████████████████████████████| 71kB 4.1MB/s \n",
            "\u001b[?25hRequirement already satisfied: Jinja2>=2.10 in /usr/local/lib/python2.7/dist-packages (from flask) (2.10)\n",
            "Collecting itsdangerous>=0.24 (from flask)\n",
            "\u001b[?25l  Downloading https://files.pythonhosted.org/packages/dc/b4/a60bcdba945c00f6d608d8975131ab3f25b22f2bcfe1dab221165194b2d4/itsdangerous-0.24.tar.gz (46kB)\n",
            "\u001b[K    100% |████████████████████████████████| 51kB 6.1MB/s \n",
            "\u001b[?25hRequirement already satisfied: MarkupSafe>=0.23 in /usr/local/lib/python2.7/dist-packages (from Jinja2>=2.10->flask) (1.0)\n",
            "Building wheels for collected packages: itsdangerous\n",
            "  Running setup.py bdist_wheel for itsdangerous ... \u001b[?25l-\b \bdone\n",
            "\u001b[?25h  Stored in directory: /content/.cache/pip/wheels/2c/4a/61/5599631c1554768c6290b08c02c72d7317910374ca602ff1e5\n",
            "Successfully built itsdangerous\n",
            "Installing collected packages: click, itsdangerous, flask\n",
            "Successfully installed click-6.7 flask-1.0.2 itsdangerous-0.24\n"
          ],
          "name": "stdout"
        }
      ]
    },
    {
      "metadata": {
        "id": "W8STTsR40b7R",
        "colab_type": "code",
        "colab": {
          "base_uri": "https://localhost:8080/",
          "height": 557
        },
        "outputId": "a2fb4b4a-954d-4dfb-fd36-8b84b320f6ab"
      },
      "cell_type": "code",
      "source": [
        "! ls /\n",
        "\n",
        "! echo \"文件路径： \"\n",
        "! pwd "
      ],
      "execution_count": 14,
      "outputs": [
        {
          "output_type": "stream",
          "text": [
            "bin\r\n",
            "boot\r\n",
            "colabtools\r\n",
            "content\r\n",
            "datalab\r\n",
            "dev\r\n",
            "etc\r\n",
            "gpu-tensorflow-1.9.0-cp27-cp27mu-linux_x86_64.whl\r\n",
            "gpu-tensorflow-1.9.0-cp36-cp36m-linux_x86_64.whl\r\n",
            "home\r\n",
            "lib\r\n",
            "lib64\r\n",
            "media\r\n",
            "mnt\r\n",
            "opt\r\n",
            "proc\r\n",
            "root\r\n",
            "run\r\n",
            "sbin\r\n",
            "srv\r\n",
            "sys\r\n",
            "tensorflow-1.9.0-cp27-cp27mu-linux_x86_64.whl\r\n",
            "tensorflow-1.9.0-cp36-cp36m-linux_x86_64.whl\r\n",
            "tf_deps\r\n",
            "tmp\r\n",
            "tools\r\n",
            "usr\r\n",
            "var\n",
            "文件路径： \n",
            "/content\n"
          ],
          "name": "stdout"
        }
      ]
    },
    {
      "metadata": {
        "id": "2ePOjI7608NF",
        "colab_type": "code",
        "colab": {}
      },
      "cell_type": "code",
      "source": [
        ""
      ],
      "execution_count": 0,
      "outputs": []
    }
  ]
}